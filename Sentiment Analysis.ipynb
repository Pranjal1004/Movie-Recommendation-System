{
 "cells": [
  {
   "cell_type": "markdown",
   "id": "ea15c7c5",
   "metadata": {},
   "source": [
    "#### Here we'll build a model to analyse and classify comments using Naive Bayes. We'll train model using \"reviews.txt\" datset."
   ]
  },
  {
   "cell_type": "code",
   "execution_count": 8,
   "id": "849a29af",
   "metadata": {},
   "outputs": [],
   "source": [
    "import pandas as pd\n",
    "import numpy as np\n",
    "from sklearn.feature_extraction.text import TfidfVectorizer\n",
    "from sklearn.model_selection import train_test_split\n",
    "from sklearn import naive_bayes\n",
    "from sklearn.metrics import roc_auc_score, accuracy_score\n",
    "# import pickle"
   ]
  },
  {
   "cell_type": "code",
   "execution_count": 9,
   "id": "311aa7c6",
   "metadata": {},
   "outputs": [],
   "source": [
    "reviews_dataset = pd.read_csv(\"reviews.txt\", sep=\"\\t\", names = [\"rating\", \"comment\"])"
   ]
  },
  {
   "cell_type": "code",
   "execution_count": 10,
   "id": "79fe33b7",
   "metadata": {},
   "outputs": [
    {
     "data": {
      "text/html": [
       "<div>\n",
       "<style scoped>\n",
       "    .dataframe tbody tr th:only-of-type {\n",
       "        vertical-align: middle;\n",
       "    }\n",
       "\n",
       "    .dataframe tbody tr th {\n",
       "        vertical-align: top;\n",
       "    }\n",
       "\n",
       "    .dataframe thead th {\n",
       "        text-align: right;\n",
       "    }\n",
       "</style>\n",
       "<table border=\"1\" class=\"dataframe\">\n",
       "  <thead>\n",
       "    <tr style=\"text-align: right;\">\n",
       "      <th></th>\n",
       "      <th>rating</th>\n",
       "      <th>comment</th>\n",
       "    </tr>\n",
       "  </thead>\n",
       "  <tbody>\n",
       "    <tr>\n",
       "      <th>0</th>\n",
       "      <td>1</td>\n",
       "      <td>The Da Vinci Code book is just awesome.</td>\n",
       "    </tr>\n",
       "    <tr>\n",
       "      <th>1</th>\n",
       "      <td>1</td>\n",
       "      <td>this was the first clive cussler i've ever rea...</td>\n",
       "    </tr>\n",
       "    <tr>\n",
       "      <th>2</th>\n",
       "      <td>1</td>\n",
       "      <td>i liked the Da Vinci Code a lot.</td>\n",
       "    </tr>\n",
       "    <tr>\n",
       "      <th>3</th>\n",
       "      <td>1</td>\n",
       "      <td>i liked the Da Vinci Code a lot.</td>\n",
       "    </tr>\n",
       "    <tr>\n",
       "      <th>4</th>\n",
       "      <td>1</td>\n",
       "      <td>I liked the Da Vinci Code but it ultimatly did...</td>\n",
       "    </tr>\n",
       "    <tr>\n",
       "      <th>...</th>\n",
       "      <td>...</td>\n",
       "      <td>...</td>\n",
       "    </tr>\n",
       "    <tr>\n",
       "      <th>6913</th>\n",
       "      <td>0</td>\n",
       "      <td>Brokeback Mountain was boring.</td>\n",
       "    </tr>\n",
       "    <tr>\n",
       "      <th>6914</th>\n",
       "      <td>0</td>\n",
       "      <td>So Brokeback Mountain was really depressing.</td>\n",
       "    </tr>\n",
       "    <tr>\n",
       "      <th>6915</th>\n",
       "      <td>0</td>\n",
       "      <td>As I sit here, watching the MTV Movie Awards, ...</td>\n",
       "    </tr>\n",
       "    <tr>\n",
       "      <th>6916</th>\n",
       "      <td>0</td>\n",
       "      <td>Ok brokeback mountain is such a horrible movie.</td>\n",
       "    </tr>\n",
       "    <tr>\n",
       "      <th>6917</th>\n",
       "      <td>0</td>\n",
       "      <td>Oh, and Brokeback Mountain was a terrible movie.</td>\n",
       "    </tr>\n",
       "  </tbody>\n",
       "</table>\n",
       "<p>6918 rows × 2 columns</p>\n",
       "</div>"
      ],
      "text/plain": [
       "      rating                                            comment\n",
       "0          1            The Da Vinci Code book is just awesome.\n",
       "1          1  this was the first clive cussler i've ever rea...\n",
       "2          1                   i liked the Da Vinci Code a lot.\n",
       "3          1                   i liked the Da Vinci Code a lot.\n",
       "4          1  I liked the Da Vinci Code but it ultimatly did...\n",
       "...      ...                                                ...\n",
       "6913       0                     Brokeback Mountain was boring.\n",
       "6914       0       So Brokeback Mountain was really depressing.\n",
       "6915       0  As I sit here, watching the MTV Movie Awards, ...\n",
       "6916       0    Ok brokeback mountain is such a horrible movie.\n",
       "6917       0   Oh, and Brokeback Mountain was a terrible movie.\n",
       "\n",
       "[6918 rows x 2 columns]"
      ]
     },
     "execution_count": 10,
     "metadata": {},
     "output_type": "execute_result"
    }
   ],
   "source": [
    "reviews_dataset"
   ]
  },
  {
   "cell_type": "code",
   "execution_count": 11,
   "id": "b57ee275",
   "metadata": {},
   "outputs": [],
   "source": [
    "# Here strip_accents parameter is used to remove accented words like á, é, í, ó, ú, ü, ñ\n",
    "\"\"\"strip_accents = \"ascii\" is a fast method that only works on characters that have an direct ASCII mapping. \n",
    "Other languages except english have not directly mapped. So it only consider english here.\"\"\"\n",
    "# stop_words parameter is used to remove common words like \"a\", \"an\", \"for\" etc.\n",
    "vectorizer =TfidfVectorizer(strip_accents=\"ascii\", stop_words=\"english\")"
   ]
  },
  {
   "cell_type": "code",
   "execution_count": 12,
   "id": "08dfa43a",
   "metadata": {},
   "outputs": [],
   "source": [
    "X = vectorizer.fit_transform(reviews_dataset.comment)\n",
    "y = reviews_dataset.rating\n",
    "# dumping Tfidvectorizer so that it can be later used to transform movie comments\n",
    "# pickle.dump(vectorizer, open(\"text_transform.pkl\", \"wb\"))"
   ]
  },
  {
   "cell_type": "code",
   "execution_count": 13,
   "id": "015366df",
   "metadata": {},
   "outputs": [],
   "source": [
    "X_train, X_test, y_train, y_test = train_test_split(X,y, test_size=0.2, random_state=42)"
   ]
  },
  {
   "cell_type": "code",
   "execution_count": 14,
   "id": "2e17697f",
   "metadata": {},
   "outputs": [
    {
     "data": {
      "text/plain": [
       "MultinomialNB()"
      ]
     },
     "execution_count": 14,
     "metadata": {},
     "output_type": "execute_result"
    }
   ],
   "source": [
    "mnb = naive_bayes.MultinomialNB()\n",
    "mnb.fit(X_train, y_train)"
   ]
  },
  {
   "cell_type": "code",
   "execution_count": 15,
   "id": "a82ff049",
   "metadata": {},
   "outputs": [
    {
     "data": {
      "text/plain": [
       "0.9747109826589595"
      ]
     },
     "execution_count": 15,
     "metadata": {},
     "output_type": "execute_result"
    }
   ],
   "source": [
    "accuracy_score(y_test, mnb.predict(X_test))"
   ]
  },
  {
   "cell_type": "code",
   "execution_count": 16,
   "id": "f5797076",
   "metadata": {},
   "outputs": [],
   "source": [
    "# pickle.dump(mnb,open(\"comment_classifier.pkl\", \"wb\"))"
   ]
  },
  {
   "cell_type": "code",
   "execution_count": null,
   "id": "576e4ae5",
   "metadata": {},
   "outputs": [],
   "source": []
  }
 ],
 "metadata": {
  "kernelspec": {
   "display_name": "Python 3 (ipykernel)",
   "language": "python",
   "name": "python3"
  },
  "language_info": {
   "codemirror_mode": {
    "name": "ipython",
    "version": 3
   },
   "file_extension": ".py",
   "mimetype": "text/x-python",
   "name": "python",
   "nbconvert_exporter": "python",
   "pygments_lexer": "ipython3",
   "version": "3.9.1"
  }
 },
 "nbformat": 4,
 "nbformat_minor": 5
}
